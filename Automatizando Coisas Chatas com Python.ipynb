{
 "cells": [
  {
   "cell_type": "code",
   "execution_count": 1,
   "metadata": {},
   "outputs": [
    {
     "data": {
      "text/plain": [
       "10"
      ]
     },
     "execution_count": 1,
     "metadata": {},
     "output_type": "execute_result"
    }
   ],
   "source": [
    "# Sequência collaz\n",
    "\n",
    "def collaz(number):\n",
    "    if number % 2 == 0:\n",
    "        result = number // 2\n",
    "    elif number % 1 == 0:\n",
    "        result = 3*number+1\n",
    "    return result\n",
    "collaz(20)"
   ]
  },
  {
   "cell_type": "code",
   "execution_count": 2,
   "metadata": {},
   "outputs": [
    {
     "name": "stdout",
     "output_type": "stream",
     "text": [
      "insira um número: 3\n",
      "10\n",
      "5\n",
      "16\n",
      "8\n",
      "4\n",
      "2\n",
      "1\n"
     ]
    }
   ],
   "source": [
    "# Sequência collaz com input\n",
    "\n",
    "def collaz(number):\n",
    "    global result\n",
    "    if number % 2 == 0:\n",
    "        result = number // 2\n",
    "    elif number % 1 == 0:\n",
    "        result = 3*number+1\n",
    "    #print(number)\n",
    "    print(result)\n",
    "    \n",
    "collaz(int(input(\"insira um número: \")))    \n",
    "\n",
    "while result != 1:\n",
    "    collaz(result)      "
   ]
  },
  {
   "cell_type": "code",
   "execution_count": 19,
   "metadata": {},
   "outputs": [
    {
     "name": "stdout",
     "output_type": "stream",
     "text": [
      "insira um número: 3\n",
      "3\n",
      "10\n",
      "5\n",
      "16\n",
      "8\n",
      "4\n",
      "2\n",
      "1\n"
     ]
    }
   ],
   "source": [
    "# Sequência collaz com input e usando sainda para realimentar a função.\n",
    "\n",
    "def collaz(number):\n",
    "    global result\n",
    "    if number % 2 == 0:\n",
    "        result = number // 2\n",
    "    elif number % 1 == 0:\n",
    "        result = 3*number+1\n",
    "    print(number)\n",
    "    #print(result)\n",
    "\n",
    "collaz(int(input(\"insira um número: \")))\n",
    "    \n",
    "    \n",
    "while result >= 1:\n",
    "    collaz(result)\n",
    "    if result == 1:\n",
    "        print(result)\n",
    "        break\n",
    "\n"
   ]
  },
  {
   "cell_type": "code",
   "execution_count": null,
   "metadata": {},
   "outputs": [],
   "source": [
    "a = [1,2,3,4,5]\n",
    "\n",
    "3 not in a"
   ]
  },
  {
   "cell_type": "code",
   "execution_count": null,
   "metadata": {
    "collapsed": true
   },
   "outputs": [],
   "source": []
  }
 ],
 "metadata": {
  "kernelspec": {
   "display_name": "Python 3",
   "language": "python",
   "name": "python3"
  },
  "language_info": {
   "codemirror_mode": {
    "name": "ipython",
    "version": 3
   },
   "file_extension": ".py",
   "mimetype": "text/x-python",
   "name": "python",
   "nbconvert_exporter": "python",
   "pygments_lexer": "ipython3",
   "version": "3.6.3"
  }
 },
 "nbformat": 4,
 "nbformat_minor": 2
}
