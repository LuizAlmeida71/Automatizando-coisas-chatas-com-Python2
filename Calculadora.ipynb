{
 "cells": [
  {
   "cell_type": "markdown",
   "id": "cf5bb3b4",
   "metadata": {},
   "source": [
    "#### Laboratório 2: Calculadora"
   ]
  },
  {
   "cell_type": "code",
   "execution_count": 135,
   "id": "ab0f8b9b",
   "metadata": {},
   "outputs": [],
   "source": [
    "def calculadora2():\n",
    "    operacao = int(input(\"Escolha uma operação: 1-soma, 2-Subtração, 3-Multiplicação, 4-Divisão: \"))\n",
    "    if operacao in [1,2,3,4]:\n",
    "        val1 = int(input(\"Entre com o primeiro valor: \"))\n",
    "        val2 = int(input(\"Entre com o segundo valor: \"))\n",
    "        if operacao == 1:\n",
    "            resultado = val1+val2\n",
    "        elif operacao == 2:\n",
    "            resultado = val1-val2\n",
    "        elif operacao == 3:\n",
    "            resultado = val1*val2\n",
    "        else:\n",
    "            resultado = val1/val2        \n",
    "        print(\"o resultado da operação é: %r\" %resultado)\n",
    "    else:\n",
    "        print(\"Essa operação não existe, por favor escolha outra apropriada\")\n",
    "    return"
   ]
  },
  {
   "cell_type": "code",
   "execution_count": 136,
   "id": "9c47f195",
   "metadata": {},
   "outputs": [
    {
     "name": "stdout",
     "output_type": "stream",
     "text": [
      "Escolha uma operação: 1-soma, 2-Subtração, 3-Multiplicação, 4-Divisão: 6\n",
      "Essa operação não existe, por favor escolha outra apropriada\n"
     ]
    }
   ],
   "source": [
    "calculadora2()"
   ]
  }
 ],
 "metadata": {
  "kernelspec": {
   "display_name": "Python 3",
   "language": "python",
   "name": "python3"
  },
  "language_info": {
   "codemirror_mode": {
    "name": "ipython",
    "version": 3
   },
   "file_extension": ".py",
   "mimetype": "text/x-python",
   "name": "python",
   "nbconvert_exporter": "python",
   "pygments_lexer": "ipython3",
   "version": "3.8.8"
  }
 },
 "nbformat": 4,
 "nbformat_minor": 5
}
